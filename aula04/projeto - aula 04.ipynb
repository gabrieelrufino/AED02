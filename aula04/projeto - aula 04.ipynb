{
 "cells": [
  {
   "cell_type": "code",
   "execution_count": 8,
   "id": "09739615-79d5-4dca-a9ca-f2c3c3380755",
   "metadata": {},
   "outputs": [],
   "source": [
    "# Lista de livros\n",
    "\n",
    "livros = [ \n",
    "    {\"titulo\": \"A Culpa é das Estrelas\", \"autor\": \"John Green\", \"ano\": 2012},\n",
    "    {\"titulo\": \"Crônica de uma morte anunciada\", \"autor\": \"Gabriel Márquez\", \"ano\": 1981},\n",
    "    {\"titulo\": \"Olhai os lírios do campo\", \"autor\": \"Érico Veríssimo\", \"ano\": 1938},\n",
    "    {\"titulo\": \"O Morro dos Ventos Uivantes\", \"autor\": \"Emily Bronte\", \"ano\": 1847},   \n",
    "    {\"titulo\": \"O Retrato de Dorian Gray\", \"autor\": \"Oscar Wilde\", \"ano\": 1890}\n",
    "]\n",
    "\n",
    "    "
   ]
  },
  {
   "cell_type": "code",
   "execution_count": 9,
   "id": "5f011217-396a-445c-b10b-ec99087d8bfb",
   "metadata": {},
   "outputs": [],
   "source": [
    "def busca_binaria(livros, titulo):\n",
    "    esquerda = 0\n",
    "    direita = len(livros) - 1\n",
    "    \n",
    "    while esquerda <= direita:\n",
    "        meio = (esquerda + direita) // 2\n",
    "        titulo_meio = livros[meio][\"titulo\"]\n",
    "        \n",
    "        if titulo_meio.lower() == titulo.lower():\n",
    "            return livros[meio]\n",
    "        elif titulo.lower() < titulo_meio.lower():\n",
    "            direita = meio - 1\n",
    "        else:\n",
    "            esquerda = meio + 1\n",
    "    \n",
    "    return None"
   ]
  },
  {
   "cell_type": "code",
   "execution_count": 10,
   "id": "55144ea3-c24e-44bd-adc3-2b992f09290b",
   "metadata": {},
   "outputs": [
    {
     "name": "stdin",
     "output_type": "stream",
     "text": [
      "Digite o título do livro que deseja buscar:  o morro dos ventos uivantes\n"
     ]
    },
    {
     "name": "stdout",
     "output_type": "stream",
     "text": [
      "Livro não encontrado.\n"
     ]
    }
   ],
   "source": [
    "titulo_busca = input(\"Digite o título do livro que deseja buscar: \")\n",
    "\n",
    "resultado = busca_binaria(livros, titulo_busca)\n",
    "\n",
    "if resultado:\n",
    "    print(\"Livro encontrado:\")\n",
    "    print(f\"Título: {resultado['titulo']}\")\n",
    "    print(f\"Autor: {resultado['autor']}\")\n",
    "    print(f\"Ano: {resultado['ano']}\")\n",
    "else:\n",
    "    print(\"Livro não encontrado.\")"
   ]
  }
 ],
 "metadata": {
  "kernelspec": {
   "display_name": "Python 3 (ipykernel)",
   "language": "python",
   "name": "python3"
  },
  "language_info": {
   "codemirror_mode": {
    "name": "ipython",
    "version": 3
   },
   "file_extension": ".py",
   "mimetype": "text/x-python",
   "name": "python",
   "nbconvert_exporter": "python",
   "pygments_lexer": "ipython3",
   "version": "3.13.5"
  }
 },
 "nbformat": 4,
 "nbformat_minor": 5
}
