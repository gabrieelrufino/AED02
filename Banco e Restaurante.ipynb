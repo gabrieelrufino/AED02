{
 "cells": [
  {
   "cell_type": "code",
   "execution_count": 23,
   "id": "fae48770-6de4-4a56-9b4f-29385cbe8efa",
   "metadata": {},
   "outputs": [
    {
     "name": "stdout",
     "output_type": "stream",
     "text": [
      "Atendendo: Carlos\n",
      "Atendendo: Maria\n",
      "Atendendo: Ana\n",
      "PAUSA: Adicionando novos clientes.\n",
      "Atendendo: João\n",
      "Atendendo: Paula\n",
      "Atendendo: Novo Cliente 1\n",
      "PAUSA: Adicionando novos clientes.\n",
      "Atendendo: Novo Cliente 2\n",
      "Atendendo: Novo Cliente 1\n",
      "Atendendo: Novo Cliente 2\n"
     ]
    }
   ],
   "source": [
    "class Queue:\n",
    "    def __init__(self):\n",
    "        self.items = []\n",
    "\n",
    "    def is_empty(self):\n",
    "        return len(self.items) == 0\n",
    "\n",
    "    def enqueue(self, item):\n",
    "        self.items.append(item)  \n",
    "\n",
    "    def dequeue(self):\n",
    "        if not self.is_empty():\n",
    "            return self.items.pop(0)  \n",
    "        return None\n",
    "\n",
    "\n",
    "\n",
    "def atendimento_banco(clientes):\n",
    "    fila = Queue()\n",
    "    \n",
    "    for cliente in clientes:\n",
    "        fila.enqueue(cliente)\n",
    "\n",
    "    atendimento = 0\n",
    "    while not fila.is_empty():\n",
    "        if atendimento == 3:\n",
    "            print(\"PAUSA: Adicionando novos clientes.\")\n",
    "            fila.enqueue(\"Novo Cliente 1\")\n",
    "            fila.enqueue(\"Novo Cliente 2\")\n",
    "            atendimento = 0  \n",
    "\n",
    "        \n",
    "        print(f\"Atendendo: {fila.dequeue()}\")\n",
    "        atendimento += 1\n",
    "\n",
    "\n",
    "\n",
    "clientes_iniciais = ['Carlos', 'Maria', 'Ana', 'João', 'Paula']\n",
    "atendimento_banco(clientes_iniciais)\n"
   ]
  },
  {
   "cell_type": "code",
   "execution_count": 25,
   "id": "6b80b2b3-80bb-46e8-a916-2e1cc2c5d9a1",
   "metadata": {},
   "outputs": [
    {
     "name": "stdout",
     "output_type": "stream",
     "text": [
      "Processando pedido: Pedido 1\n",
      "Novo pedido adicionado: Pedido 4\n",
      "Processando pedido: Pedido 2\n",
      "Novo pedido adicionado: Pedido 5\n",
      "Processando pedido: Pedido 3\n",
      "Novo pedido adicionado: Pedido 6\n",
      "Processando pedido: Pedido 4\n",
      "Novo pedido adicionado: Pedido 7\n",
      "Processando pedido: Pedido 5\n",
      "Novo pedido adicionado: Pedido 8\n"
     ]
    }
   ],
   "source": [
    "class Queue:\n",
    "    def __init__(self):\n",
    "        self.items = []\n",
    "\n",
    "    def is_empty(self):\n",
    "        return len(self.items) == 0\n",
    "\n",
    "    def enqueue(self, item):\n",
    "        self.items.append(item)\n",
    "\n",
    "    def dequeue(self):\n",
    "        if not self.is_empty():\n",
    "            return self.items.pop(0)\n",
    "        return None\n",
    "\n",
    "\n",
    "def controle_pedidos(pedidos, num_processados):\n",
    "    fila = Queue()\n",
    "    for pedido in pedidos:\n",
    "        fila.enqueue(pedido)\n",
    "\n",
    "    pedidos_processados = 0\n",
    "    while pedidos_processados < num_processados:\n",
    "        pedido_atual = fila.dequeue()\n",
    "        print(f\"Processando pedido: {pedido_atual}\")\n",
    "        pedidos_processados += 1\n",
    "        novo_pedido = f\"Pedido {pedidos_processados + len(pedidos)}\"\n",
    "        fila.enqueue(novo_pedido)\n",
    "        print(f\"Novo pedido adicionado: {novo_pedido}\")\n",
    "\n",
    "\n",
    "pedidos_iniciais = ['Pedido 1', 'Pedido 2', 'Pedido 3']\n",
    "controle_pedidos(pedidos_iniciais, 5)\n"
   ]
  },
  {
   "cell_type": "code",
   "execution_count": null,
   "id": "efd6d0fa-4b79-4867-8be4-fe8ac712ee4d",
   "metadata": {},
   "outputs": [],
   "source": []
  },
  {
   "cell_type": "code",
   "execution_count": null,
   "id": "d07fbec3-1026-4761-b92f-12863a773b34",
   "metadata": {},
   "outputs": [],
   "source": []
  }
 ],
 "metadata": {
  "kernelspec": {
   "display_name": "Python 3 (ipykernel)",
   "language": "python",
   "name": "python3"
  },
  "language_info": {
   "codemirror_mode": {
    "name": "ipython",
    "version": 3
   },
   "file_extension": ".py",
   "mimetype": "text/x-python",
   "name": "python",
   "nbconvert_exporter": "python",
   "pygments_lexer": "ipython3",
   "version": "3.13.5"
  }
 },
 "nbformat": 4,
 "nbformat_minor": 5
}
