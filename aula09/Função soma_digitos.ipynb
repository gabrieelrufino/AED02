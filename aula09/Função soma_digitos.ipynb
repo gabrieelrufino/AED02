{
 "cells": [
  {
   "cell_type": "code",
   "execution_count": 1,
   "id": "c6b115c1-d720-416b-b936-0efad26b2e8c",
   "metadata": {},
   "outputs": [],
   "source": [
    "def soma_digitos(n):\n",
    "    # Caso base: número de um dígito só\n",
    "    if n < 10:\n",
    "        return n\n",
    "    # Caso recursivo: soma o último dígito com o resto\n",
    "    return (n % 10) + soma_digitos(n // 10)\n"
   ]
  },
  {
   "cell_type": "code",
   "execution_count": 2,
   "id": "824960d1-a68a-42bf-a4f3-ff64e713e9a8",
   "metadata": {},
   "outputs": [
    {
     "name": "stdout",
     "output_type": "stream",
     "text": [
      "6\n",
      "30\n",
      "5\n"
     ]
    }
   ],
   "source": [
    "print(soma_digitos(123))   # Saída: 6\n",
    "print(soma_digitos(9876))  # Saída: 30\n",
    "print(soma_digitos(5))     # Saída: 5\n"
   ]
  },
  {
   "cell_type": "code",
   "execution_count": null,
   "id": "1b17e44f-afb0-4a31-a1d9-ecbd392b1c5d",
   "metadata": {},
   "outputs": [],
   "source": []
  }
 ],
 "metadata": {
  "kernelspec": {
   "display_name": "Python 3 (ipykernel)",
   "language": "python",
   "name": "python3"
  },
  "language_info": {
   "codemirror_mode": {
    "name": "ipython",
    "version": 3
   },
   "file_extension": ".py",
   "mimetype": "text/x-python",
   "name": "python",
   "nbconvert_exporter": "python",
   "pygments_lexer": "ipython3",
   "version": "3.13.5"
  }
 },
 "nbformat": 4,
 "nbformat_minor": 5
}
